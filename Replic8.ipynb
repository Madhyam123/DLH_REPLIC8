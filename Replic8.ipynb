{
  "nbformat": 4,
  "nbformat_minor": 0,
  "metadata": {
    "colab": {
      "provenance": []
    },
    "kernelspec": {
      "name": "python3",
      "display_name": "Python 3"
    },
    "language_info": {
      "name": "python"
    }
  },
  "cells": [
    {
      "cell_type": "code",
      "execution_count": 1,
      "metadata": {
        "id": "nwfpBz5sNdcm"
      },
      "outputs": [],
      "source": [
        "from keras.preprocessing.image import ImageDataGenerator\n",
        "from keras.applications.vgg16 import VGG16\n",
        "from keras.layers import Dense, Flatten\n",
        "from keras.models import Model\n",
        "from keras.optimizers import Adam\n",
        "import numpy as np\n",
        "\n",
        "# Define the input shape of the network\n",
        "input_shape = (512, 512, 3)\n",
        "\n",
        "# Define the number of classes\n",
        "num_classes = 2\n"
      ]
    },
    {
      "cell_type": "code",
      "source": [
        "# Create an instance of the VGG16 model with pre-trained ImageNet weights\n",
        "base_model = VGG16(weights='imagenet', include_top=False, input_shape=input_shape)\n",
        "\n",
        "# Freeze the pre-trained layers\n",
        "for layer in base_model.layers:\n",
        "    layer.trainable = False\n",
        "\n",
        "# Add a new fully connected layer on top of the pre-trained layers\n",
        "x = base_model.output\n",
        "x = Flatten()(x)\n",
        "x = Dense(256, activation='relu')(x)\n",
        "predictions = Dense(num_classes, activation='softmax')(x)\n",
        "model = Model(inputs=base_model.input, outputs=predictions)\n",
        "\n",
        "# Compile the model\n",
        "model.compile(optimizer=Adam(lr=0.001), loss='categorical_crossentropy', metrics=['accuracy'])"
      ],
      "metadata": {
        "id": "QStOEx0jKlAg"
      },
      "execution_count": null,
      "outputs": []
    },
    {
      "cell_type": "code",
      "source": [
        "# Define the image data generators\n",
        "train_datagen = ImageDataGenerator(rescale=1./255)\n",
        "test_datagen = ImageDataGenerator(rescale=1./255)\n",
        "\n",
        "# Load the training and testing data\n",
        "train_generator = train_datagen.flow_from_directory(\n",
        "        '/content/drive/MyDrive/Replica8/casting_data/train',\n",
        "        target_size=(512, 512),\n",
        "        batch_size=32,\n",
        "        class_mode='categorical')\n",
        "\n",
        "test_generator = test_datagen.flow_from_directory(\n",
        "        '/content/drive/MyDrive/Replica8/casting_data/test',\n",
        "        target_size=(512, 512),\n",
        "        batch_size=32,\n",
        "        class_mode='categorical')"
      ],
      "metadata": {
        "id": "Yxpr-_g2KtYG"
      },
      "execution_count": null,
      "outputs": []
    },
    {
      "cell_type": "code",
      "source": [
        "# Train the model\n",
        "model.fit(\n",
        "        train_generator,\n",
        "        steps_per_epoch=100,\n",
        "        epochs=10,\n",
        "        validation_data=test_generator,\n",
        "        validation_steps=50)"
      ],
      "metadata": {
        "id": "5mL5rzhJKuVO"
      },
      "execution_count": null,
      "outputs": []
    }
  ]
}